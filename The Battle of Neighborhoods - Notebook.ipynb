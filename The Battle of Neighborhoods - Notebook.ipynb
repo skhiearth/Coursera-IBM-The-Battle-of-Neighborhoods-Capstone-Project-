{
    "nbformat_minor": 1, 
    "cells": [
        {
            "source": "<h1><center>The Battle of Neighborhoods</center></h1>", 
            "cell_type": "markdown", 
            "metadata": {
                "collapsed": true
            }
        }, 
        {
            "source": "This **capstone project** has been submitted as part of the requirements for completion of the **IBM Data Science Professional Certificate** on Coursera. In general, this project would be encompassing a series of Data Science techniques, including, but not limited to, Web Scraping (using BeautifulSoup and Requests), Data Cleaning, Data Wrangling and Machine Learning (K-Means clustering algorithm).", 
            "cell_type": "markdown", 
            "metadata": {}
        }, 
        {
            "source": "### Importing required libraries and packages", 
            "cell_type": "markdown", 
            "metadata": {}
        }, 
        {
            "execution_count": 5, 
            "cell_type": "code", 
            "metadata": {}, 
            "outputs": [
                {
                    "output_type": "stream", 
                    "name": "stdout", 
                    "text": "Libraries imported.\n"
                }
            ], 
            "source": "import numpy as np # library to handle data in a vectorized manner\n\nimport pandas as pd # library for data analsysis\npd.set_option(\"display.max_columns\", None)\npd.set_option(\"display.max_rows\", None)\n\nimport json # library to handle JSON files\n\nfrom geopy.geocoders import Nominatim # convert an address into latitude and longitude values\n#!pip install geocoder\nimport geocoder # to get coordinates\n\nimport requests # library to handle requests\nfrom bs4 import BeautifulSoup # library to parse HTML and XML documents\n\nfrom pandas.io.json import json_normalize # tranform JSON file into a pandas dataframe\n\n# Matplotlib and associated plotting modules\nimport matplotlib.cm as cm\nimport matplotlib.colors as colors\n\n# import k-means from clustering stage\nfrom sklearn.cluster import KMeans\n\n#!pip install folium\nimport folium # map rendering library\n\nprint(\"Libraries imported.\")"
        }, 
        {
            "source": "### Scraping web for neighborhood data of Berlin (WikiPedia)", 
            "cell_type": "markdown", 
            "metadata": {}
        }, 
        {
            "execution_count": 72, 
            "cell_type": "code", 
            "metadata": {}, 
            "outputs": [], 
            "source": "data = requests.get(\"https://en.wikipedia.org/wiki/Category:Localities_of_Berlin\").text\nsoup = BeautifulSoup(data, 'lxml')\ntextList = []\nneighborhoodList = []"
        }, 
        {
            "execution_count": 86, 
            "cell_type": "code", 
            "metadata": {}, 
            "outputs": [
                {
                    "execution_count": 86, 
                    "metadata": {}, 
                    "data": {
                        "text/plain": "(97, 1)"
                    }, 
                    "output_type": "execute_result"
                }
            ], 
            "source": "# append the data into the list\nneighborhoodList.clear()\n\nfor row in soup.find_all(\"div\", class_=\"mw-category\")[0].findAll(\"li\"):\n    neighborhoodList.append(row.text)\n    \nberlin_df = pd.DataFrame({\"Neighborhood\": neighborhoodList})\n\nberlin_df.shape"
        }, 
        {
            "execution_count": null, 
            "cell_type": "code", 
            "metadata": {}, 
            "outputs": [], 
            "source": "# Geographical coordinates of neighborhoods\n\n# define a function to get coordinates\ndef get_latlng(neighborhood):\n    # initialize your variable to None\n    lat_lng_coords = None\n    # loop until you get the coordinates\n    while(lat_lng_coords is None):\n        g = geocoder.arcgis('{}, Berlin, Germany'.format(neighborhood))\n        lat_lng_coords = g.latlng\n    return lat_lng_coords\n\ncoords = [ get_latlng(neighborhood) for neighborhood in berlin_df[\"Neighborhood\"].tolist() ]\n\ndf_coords = pd.DataFrame(coords, columns=['Latitude', 'Longitude'])\n\n# merge the coordinates into the original dataframe\nkl_df['Latitude'] = df_coords['Latitude']\nkl_df['Longitude'] = df_coords['Longitude']\n\n\n# check the neighborhoods and the coordinates\nprint(berlin_df.shape)\nberlin_df"
        }, 
        {
            "execution_count": null, 
            "cell_type": "code", 
            "metadata": {}, 
            "outputs": [], 
            "source": ""
        }
    ], 
    "metadata": {
        "kernelspec": {
            "display_name": "Python 3.5", 
            "name": "python3", 
            "language": "python"
        }, 
        "language_info": {
            "mimetype": "text/x-python", 
            "nbconvert_exporter": "python", 
            "version": "3.5.5", 
            "name": "python", 
            "file_extension": ".py", 
            "pygments_lexer": "ipython3", 
            "codemirror_mode": {
                "version": 3, 
                "name": "ipython"
            }
        }
    }, 
    "nbformat": 4
}